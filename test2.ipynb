{
 "cells": [
  {
   "cell_type": "code",
   "execution_count": 1,
   "metadata": {},
   "outputs": [
    {
     "name": "stderr",
     "output_type": "stream",
     "text": [
      "c:\\Users\\lets_\\Documents\\bible-rag\\bibleenv\\Lib\\site-packages\\langchain_core\\_api\\deprecation.py:119: LangChainDeprecationWarning: The class `OpenAIEmbeddings` was deprecated in LangChain 0.0.9 and will be removed in 0.3.0. An updated version of the class exists in the langchain-openai package and should be used instead. To use it run `pip install -U langchain-openai` and import as `from langchain_openai import OpenAIEmbeddings`.\n",
      "  warn_deprecated(\n"
     ]
    }
   ],
   "source": [
    "# import libraries\n",
    "import os\n",
    "import streamlit as st\n",
    "from langchain_community.document_loaders import PyPDFLoader\n",
    "from langchain.text_splitter import RecursiveCharacterTextSplitter\n",
    "from langchain.embeddings.openai import OpenAIEmbeddings\n",
    "from langchain.vectorstores import Chroma\n",
    "from langchain.prompts import ChatPromptTemplate\n",
    "from langchain.chat_models import ChatOpenAI\n",
    "\n",
    "OPENAI_API_KEY = st.secrets['openai_api_key'] # add your OpenAI API Key\n",
    "DOC_PATH = \"files/whole_bible/NIV-Bible-PDF.pdf\"\n",
    "CHROMA_PATH = \"bible_chromadb\" \n",
    "\n",
    "# ----- Data Indexing Process -----\n",
    "\n",
    "# load your pdf doc\n",
    "loader = PyPDFLoader(DOC_PATH)\n",
    "pages = loader.load()\n",
    "\n",
    "# split the doc into smaller chunks i.e. chunk_size=500\n",
    "text_splitter = RecursiveCharacterTextSplitter(chunk_size=500, chunk_overlap=50)\n",
    "documents = text_splitter.split_documents(pages)\n",
    "\n",
    "# get OpenAI Embedding model\n",
    "embeddings = OpenAIEmbeddings(openai_api_key=OPENAI_API_KEY)"
   ]
  },
  {
   "cell_type": "code",
   "execution_count": 6,
   "metadata": {},
   "outputs": [],
   "source": [
    "from pinecone import Pinecone, ServerlessSpec\n",
    "# create new pinecone index\n",
    "pc = Pinecone(api_key=st.secrets[\"pinecone_api_key\"])\n",
    "pc.create_index(\n",
    "    name=\"full-bible-index\",\n",
    "    dimension=1536, # Replace with your model dimensions\n",
    "    metric=\"euclidean\", # Replace with your model metric\n",
    "    spec=ServerlessSpec(\n",
    "        cloud=\"aws\",\n",
    "        region=\"us-east-1\"\n",
    "    ) \n",
    ")"
   ]
  },
  {
   "cell_type": "code",
   "execution_count": 7,
   "metadata": {},
   "outputs": [],
   "source": [
    "from pinecone import Pinecone\n",
    "pc = Pinecone(api_key=os.environ.get(\"pinecone_api_key\"))\n",
    "\n",
    "from langchain_pinecone import PineconeVectorStore\n",
    "from langchain_core.runnables import RunnablePassthrough\n",
    "\n",
    "index_name = \"full-bible-index\"\n",
    "\n",
    "# connect to index\n",
    "index = pc.Index(index_name)\n",
    "\n",
    "# view index stats\n",
    "index.describe_index_stats()\n",
    "\n",
    "pinecone = PineconeVectorStore.from_documents(\n",
    "    documents, embeddings, index_name=index_name\n",
    ")\n"
   ]
  },
  {
   "cell_type": "code",
   "execution_count": 8,
   "metadata": {},
   "outputs": [
    {
     "data": {
      "text/plain": [
       "[Document(page_content='2Suddenly a sound like the blowing of a \\nviolent wind came from heaven and filled the whole house where they were \\nsitting. \\n \\n3They saw what seemed to be tongues \\nof fire that separated and came to rest \\non each of them.  \\n4All of them were filled with the Holy \\nSpirit and began to speak in other tongues as the Spirit enabled them. \\n \\n5Now there were staying in Jerusalem \\nGod-fearing Jews from every nation \\nunder heaven.  \\n6When they heard this sound, a crowd \\ncame together in bewilderment,', metadata={'page': 1512.0, 'source': 'files/whole_bible/NIV-Bible-PDF.pdf'}),\n",
       " Document(page_content='19On the evening of that first day of the \\nweek, when the disciples were together, \\nwith the doors locked for fear of the Jews, Jesus came and stood among \\nthem and said, \"Peace be with you!\" \\n \\n20After he said this, he showed them his \\nhands and side. The disciples were overjoyed when they  saw the Lord. \\n \\n21Again Jesus said, \"Peace be with you! \\nAs the Father has sent me, I am \\nsending you.\"  \\n22And with that he breathed on them and \\nsaid, \"Receive the Holy Spirit.', metadata={'page': 1508.0, 'source': 'files/whole_bible/NIV-Bible-PDF.pdf'}),\n",
       " Document(page_content='4Peter said to Jesus, \"Lord, it is good for \\nus to be here. If you wish, I will put up \\nthree shelters--one for you, one for Moses and one for Elijah.\" \\n \\n5While he was still speaking, a bright \\ncloud enveloped them, and a voice from \\nthe cloud said, \"This is my Son, whom I love; with him I am well pleased. Listen \\nto him!\" \\n \\n6When the disciples heard this, they fell \\nfacedown to the ground, terrified.  \\n7But Jesus came and touched them. \\n\"Get up,\" he said. \"Don\\'t be afraid.\"', metadata={'page': 1345.0, 'source': 'files/whole_bible/NIV-Bible-PDF.pdf'})]"
      ]
     },
     "execution_count": 8,
     "metadata": {},
     "output_type": "execute_result"
    }
   ],
   "source": [
    "pinecone.similarity_search(\"What is the pentacost?\")[:3]"
   ]
  },
  {
   "cell_type": "code",
   "execution_count": 14,
   "metadata": {},
   "outputs": [],
   "source": [
    "from langchain.prompts import ChatPromptTemplate\n",
    "from langchain.schema.runnable import RunnablePassthrough\n",
    "from langchain.agents.output_parsers import OpenAIFunctionsAgentOutputParser\n",
    "\n",
    "\n",
    "template = \"\"\"\n",
    "You are a friendly chatbot who has access to the Christian bible. \n",
    "Several relevant bible passages will be given to you in the context. \n",
    "Answer the question based on the context. \n",
    "If you can't answer the question, reply \"I don't know\".\n",
    "If you are going to answer the question, mention the bible verse that you are talking about.\n",
    "\n",
    "Context: {context}\n",
    "\n",
    "Question: {question}\n",
    "\"\"\"\n",
    "\n",
    "prompt = ChatPromptTemplate.from_template(template)\n",
    "\n",
    "# load model from open AI\n",
    "model = ChatOpenAI(model_name = \"gpt-3.5-turbo-0125\",\n",
    "                    openai_api_key = st.secrets['openai_api_key'],\n",
    "                    temperature = 0.2, \n",
    "                    streaming=True)\n",
    "\n",
    "\n",
    "chain = (\n",
    "    {\"context\": pinecone.as_retriever(), \"question\": RunnablePassthrough()}\n",
    "    | prompt\n",
    "    | model\n",
    "    | OpenAIFunctionsAgentOutputParser()\n",
    ")\n"
   ]
  },
  {
   "cell_type": "code",
   "execution_count": 15,
   "metadata": {},
   "outputs": [
    {
     "data": {
      "text/plain": [
       "AgentFinish(return_values={'output': 'In the context provided, Jesus talks about suffering in Mark 9:12-13, where he mentions that the Son of Man must suffer much and be rejected. He also mentions that in the same way, the Son of Man is going to suffer at the hands of others. This shows that Jesus acknowledges and foretells the suffering he will endure, emphasizing the importance of enduring suffering as part of his mission.'}, log='In the context provided, Jesus talks about suffering in Mark 9:12-13, where he mentions that the Son of Man must suffer much and be rejected. He also mentions that in the same way, the Son of Man is going to suffer at the hands of others. This shows that Jesus acknowledges and foretells the suffering he will endure, emphasizing the importance of enduring suffering as part of his mission.')"
      ]
     },
     "execution_count": 15,
     "metadata": {},
     "output_type": "execute_result"
    }
   ],
   "source": [
    "chain.invoke(\"What does Jesus say about suffering?\")"
   ]
  }
 ],
 "metadata": {
  "kernelspec": {
   "display_name": "bibleenv",
   "language": "python",
   "name": "python3"
  },
  "language_info": {
   "codemirror_mode": {
    "name": "ipython",
    "version": 3
   },
   "file_extension": ".py",
   "mimetype": "text/x-python",
   "name": "python",
   "nbconvert_exporter": "python",
   "pygments_lexer": "ipython3",
   "version": "3.11.7"
  }
 },
 "nbformat": 4,
 "nbformat_minor": 2
}
